{
 "cells": [
  {
   "cell_type": "code",
   "execution_count": 16,
   "metadata": {},
   "outputs": [
    {
     "data": {
      "image/png": "[encoded data removed]",
      "text/plain": [
       "<Figure size 640x480 with 1 Axes>"
      ]
     },
     "metadata": {},
     "output_type": "display_data"
    }
   ],
   "source": [
    "import random\n",
    "import matplotlib.pyplot as plt\n",
    "\n",
    "def calcResidual(fuel, ox):\n",
    "    \"\"\"Take in real loaded fuel and ox masses, and determine the residual propellant that will be left\"\"\"\n",
    "    if fuel > 0.5*ox:\n",
    "        return fuel - 0.5*ox\n",
    "    else:\n",
    "        return ox - 2.0*fuel\n",
    "    \n",
    "def runOneSim(fuelBiasLoad, uncertaintySigma):\n",
    "    \"\"\"Do a single draw of the actual propellant load given the desired bias (positive for extra fuel,\n",
    "    negative for extra ox), and the standard deviation of the mass measurement error for each prop type\"\"\"\n",
    "    fuelDraw = random.gauss(1000, uncertaintySigma)\n",
    "    oxDraw = random.gauss(2000, uncertaintySigma)\n",
    "    if fuelBiasLoad >= 0:\n",
    "        fuelDraw += fuelBiasLoad\n",
    "    else:\n",
    "        oxDraw -= fuelBiasLoad\n",
    "    return (fuelDraw, oxDraw)\n",
    "\n",
    "def runMonteCarlo(fuelBiasLoad, numRuns, uncertaintySigma=7.07):\n",
    "    \"\"\"Do a number of runs with a given fuel bias load and return the average propellant residual\n",
    "    over all the runs\"\"\"\n",
    "    totalResidual = 0.0\n",
    "    for i in range(numRuns):\n",
    "        fuelDraw, oxDraw = runOneSim(fuelBiasLoad, uncertaintySigma)\n",
    "        totalResidual += calcResidual(fuelDraw, oxDraw)\n",
    "    return totalResidual / float(numRuns)\n",
    "\n",
    "def runSimsAndPlot():\n",
    "    \"\"\"get an idea of the fuel bias value that minimizes mean propellant residual mass\"\"\"\n",
    "    currentBias = -1.0\n",
    "    biases = []\n",
    "    avgResiduals = []\n",
    "    while currentBias <= 6:\n",
    "        biases.append(currentBias)\n",
    "        avgResiduals.append(runMonteCarlo(currentBias, 100000))\n",
    "        currentBias += 0.1\n",
    "    plt.plot(biases, avgResiduals)\n",
    "    plt.show()\n",
    "\n",
    "runSimsAndPlot()\n"
   ]
  },
  {
   "cell_type": "code",
   "execution_count": 35,
   "metadata": {},
   "outputs": [
    {
     "name": "stdout",
     "output_type": "stream",
     "text": [
      "  message: CONVERGENCE: NORM_OF_PROJECTED_GRADIENT_<=_PGTOL\n",
      "  success: True\n",
      "   status: 0\n",
      "      fun: 9.472835940467625\n",
      "        x: [ 5.027e+00]\n",
      "      nit: 5\n",
      "      jac: [ 1.421e-06]\n",
      "     nfev: 14\n",
      "     njev: 7\n",
      " hess_inv: <1x1 LbfgsInvHessProduct with dtype=float64>\n"
     ]
    }
   ],
   "source": [
    "import numpy as np\n",
    "from scipy import integrate\n",
    "from scipy import optimize\n",
    "\n",
    "def residual(o2f, fuel_bias, ox_err, fuel_err):\n",
    "    \"\"\"Take in the oxidizer to fuel mass consumption ratio o2f,\n",
    "    the intended additional fuel load beyond parity with loaded ox in kg fuel_bias,\n",
    "    the difference of real - estimated fuel load fuel_err, and\n",
    "    the difference of real - estimated oxidizer load ox_err.\n",
    "    Calculate the residual propellant mass in kg after one of the proellant types\n",
    "    runs out\"\"\"\n",
    "    comparison_criterion = fuel_bias + fuel_err - ox_err / o2f\n",
    "    if comparison_criterion >= 0:\n",
    "        # there is excess fuel\n",
    "        return comparison_criterion\n",
    "    else: # excess oxidizer\n",
    "        return o2f * (-comparison_criterion)\n",
    "\n",
    "def getExpResidualIntegrand(o2f, fuel_bias, fuel_sigma, ox_sigma):\n",
    "    \"\"\"For given values of O/F ratio and intended fuel bias load, return the function\n",
    "    to calculate the residual propellant, as a functio of only the random variables \n",
    "    fuel_err and ox_err\"\"\"\n",
    "    sqrt2pi = np.sqrt(2*np.pi)\n",
    "    return lambda ox_err, fuel_err: residual(o2f, fuel_bias, ox_err, fuel_err) *\\\n",
    "    1.0/(fuel_sigma*sqrt2pi)*np.exp(-0.5*(fuel_err/fuel_sigma)**2) *\\\n",
    "    1.0/(ox_sigma*sqrt2pi)*np.exp(-0.5*(ox_err/ox_sigma)**2)\n",
    "\n",
    "def getExpectedResidual(o2f, fuel_bias, fuel_sigma, ox_sigma, integ_lim=1e3):\n",
    "    \"\"\"f\"\"\"\n",
    "    func = getExpResidualIntegrand(o2f, fuel_bias, fuel_sigma, ox_sigma)\n",
    "    part1 = integrate.dblquad(func,-integ_lim,integ_lim,lambda ox_err: -integ_lim,lambda ox_err: ox_err/o2f - fuel_bias)[0]\n",
    "    part2 = integrate.dblquad(func,-integ_lim,integ_lim,lambda ox_err: ox_err/o2f - fuel_bias,lambda ox_err: integ_lim)[0]\n",
    "    return part1+part2\n",
    "\n",
    "def minimizeResidual(o2f, fuel_sigma, ox_sigma):\n",
    "    cost = lambda fuel_bias: getExpectedResidual(o2f, fuel_bias, fuel_sigma, ox_sigma, 6*(fuel_sigma+ox_sigma))\n",
    "    return optimize.minimize(cost, fuel_sigma/o2f, bounds=optimize.Bounds(lb=0))\n",
    "\n",
    "o2f = 2\n",
    "fuel_sigma = 7.07\n",
    "ox_sigma = 7.07\n",
    "print(minimizeResidual(o2f, fuel_sigma, ox_sigma))\n",
    "\n"
   ]
  },
  {
   "cell_type": "code",
   "execution_count": null,
   "metadata": {},
   "outputs": [],
   "source": []
  }
 ],
 "metadata": {
  "kernelspec": {
   "display_name": "Python 3",
   "language": "python",
   "name": "python3"
  },
  "language_info": {
   "codemirror_mode": {
    "name": "ipython",
    "version": 3
   },
   "file_extension": ".py",
   "mimetype": "text/x-python",
   "name": "python",
   "nbconvert_exporter": "python",
   "pygments_lexer": "ipython3",
   "version": "3.11.4"
  },
  "orig_nbformat": 4
 },
 "nbformat": 4,
 "nbformat_minor": 2
}
